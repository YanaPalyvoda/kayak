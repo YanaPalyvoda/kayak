{
 "cells": [
  {
   "cell_type": "markdown",
   "id": "69f511c0-aa35-4ddb-aabc-609ea6b67282",
   "metadata": {},
   "source": [
    "## STEP 1 - Scrape GPS coordinates"
   ]
  },
  {
   "cell_type": "markdown",
   "id": "009b0a5e-1eb0-48df-bf56-0464137a0d8b",
   "metadata": {},
   "source": [
    "## Search GPS coordinates of all the cities provided by Marketing team from the https://nominatim.org/"
   ]
  },
  {
   "cell_type": "markdown",
   "id": "00e4f19f-10f1-405a-b8ce-f0cb529766fa",
   "metadata": {},
   "source": [
    "Create the file contain the list of the city provided by Marketing Teamand their gps coordinates"
   ]
  },
  {
   "cell_type": "code",
   "execution_count": 1,
   "id": "878f6ba0-f33a-4469-973b-623a2e7fd11c",
   "metadata": {},
   "outputs": [],
   "source": [
    "import requests\n",
    "import json\n",
    "import pandas as pd"
   ]
  },
  {
   "cell_type": "markdown",
   "id": "93510300-581d-47d4-af8d-3cd6fac9da0e",
   "metadata": {},
   "source": [
    "Scope of the project: top-35 cities to visit in France"
   ]
  },
  {
   "cell_type": "code",
   "execution_count": 2,
   "id": "8a7cd5f4-10ab-407f-b70e-cc198f89e91f",
   "metadata": {},
   "outputs": [],
   "source": [
    "cities = [\"Mont Saint Michel\",\n",
    "\"St Malo\",\n",
    "\"Bayeux\",\n",
    "\"Le Havre\",\n",
    "\"Rouen\",\n",
    "\"Paris\",\n",
    "\"Amiens\",\n",
    "\"Lille\",\n",
    "\"Strasbourg\",\n",
    "\"Chateau du Haut Koenigsbourg\",\n",
    "\"Colmar\",\n",
    "\"Eguisheim\",\n",
    "\"Besancon\",\n",
    "\"Dijon\",\n",
    "\"Annecy\",\n",
    "\"Grenoble\",\n",
    "\"Lyon\",\n",
    "\"Gorges du Verdon\",\n",
    "\"Bormes les Mimosas\",\n",
    "\"Cassis\",\n",
    "\"Marseille\",\n",
    "\"Aix en Provence\",\n",
    "\"Avignon\",\n",
    "\"Uzes\",\n",
    "\"Nimes\",\n",
    "\"Aigues Mortes\",\n",
    "\"Saintes Maries de la mer\",\n",
    "\"Collioure\",\n",
    "\"Carcassonne\",\n",
    "\"Ariege\",\n",
    "\"Toulouse\",\n",
    "\"Montauban\",\n",
    "\"Biarritz\",\n",
    "\"Bayonne\",\n",
    "\"La Rochelle\"]"
   ]
  },
  {
   "cell_type": "markdown",
   "id": "4bd22472-8211-4b8b-a058-7fc5e07f0d15",
   "metadata": {},
   "source": [
    "Create a dict contain the cities and their gps coordinates"
   ]
  },
  {
   "cell_type": "code",
   "execution_count": 3,
   "id": "4b0e2444-632f-4ab5-9767-d1f4813222a2",
   "metadata": {},
   "outputs": [],
   "source": [
    "citiesGeo = []\n",
    "for indx,city in enumerate(cities):\n",
    "    url = \"https://nominatim.openstreetmap.org/search?q=%s+Fr&format=json\"%(city)\n",
    "    response = requests.get(url)\n",
    "    if response.ok:\n",
    "        cityGeo = {}\n",
    "        data = json.loads(response.text)\n",
    "        cityGeo.update({\"CityID\":indx,\n",
    "                        \"CityName\":city,\n",
    "                        \"CityLat\":data[0].get(\"lat\"),\n",
    "                        \"CityLon\":data[0].get(\"lon\")})\n",
    "    citiesGeo.append(cityGeo)"
   ]
  },
  {
   "cell_type": "code",
   "execution_count": 4,
   "id": "6d8bbabc-31dc-4f50-a349-80879277ce64",
   "metadata": {},
   "outputs": [
    {
     "data": {
      "text/html": [
       "<div>\n",
       "<style scoped>\n",
       "    .dataframe tbody tr th:only-of-type {\n",
       "        vertical-align: middle;\n",
       "    }\n",
       "\n",
       "    .dataframe tbody tr th {\n",
       "        vertical-align: top;\n",
       "    }\n",
       "\n",
       "    .dataframe thead th {\n",
       "        text-align: right;\n",
       "    }\n",
       "</style>\n",
       "<table border=\"1\" class=\"dataframe\">\n",
       "  <thead>\n",
       "    <tr style=\"text-align: right;\">\n",
       "      <th></th>\n",
       "      <th>CityID</th>\n",
       "      <th>CityName</th>\n",
       "      <th>CityLat</th>\n",
       "      <th>CityLon</th>\n",
       "    </tr>\n",
       "  </thead>\n",
       "  <tbody>\n",
       "    <tr>\n",
       "      <th>0</th>\n",
       "      <td>0</td>\n",
       "      <td>Mont Saint Michel</td>\n",
       "      <td>48.6359541</td>\n",
       "      <td>-1.511459954959514</td>\n",
       "    </tr>\n",
       "    <tr>\n",
       "      <th>1</th>\n",
       "      <td>1</td>\n",
       "      <td>St Malo</td>\n",
       "      <td>48.649518</td>\n",
       "      <td>-2.0260409</td>\n",
       "    </tr>\n",
       "    <tr>\n",
       "      <th>2</th>\n",
       "      <td>2</td>\n",
       "      <td>Bayeux</td>\n",
       "      <td>49.2764624</td>\n",
       "      <td>-0.7024738</td>\n",
       "    </tr>\n",
       "    <tr>\n",
       "      <th>3</th>\n",
       "      <td>3</td>\n",
       "      <td>Le Havre</td>\n",
       "      <td>49.4938975</td>\n",
       "      <td>0.1079732</td>\n",
       "    </tr>\n",
       "    <tr>\n",
       "      <th>4</th>\n",
       "      <td>4</td>\n",
       "      <td>Rouen</td>\n",
       "      <td>49.4404591</td>\n",
       "      <td>1.0939658</td>\n",
       "    </tr>\n",
       "  </tbody>\n",
       "</table>\n",
       "</div>"
      ],
      "text/plain": [
       "   CityID           CityName     CityLat             CityLon\n",
       "0       0  Mont Saint Michel  48.6359541  -1.511459954959514\n",
       "1       1            St Malo   48.649518          -2.0260409\n",
       "2       2             Bayeux  49.2764624          -0.7024738\n",
       "3       3           Le Havre  49.4938975           0.1079732\n",
       "4       4              Rouen  49.4404591           1.0939658"
      ]
     },
     "execution_count": 4,
     "metadata": {},
     "output_type": "execute_result"
    }
   ],
   "source": [
    "result = pd.DataFrame.from_dict(citiesGeo,orient='columns')\n",
    "result.head()"
   ]
  },
  {
   "cell_type": "code",
   "execution_count": 5,
   "id": "c861dc4b-d91d-410d-b8c1-ba0117bb845d",
   "metadata": {},
   "outputs": [
    {
     "data": {
      "text/plain": [
       "0"
      ]
     },
     "execution_count": 5,
     "metadata": {},
     "output_type": "execute_result"
    }
   ],
   "source": [
    "#Check the empty data\n",
    "result.isna().sum().sum()"
   ]
  },
  {
   "cell_type": "code",
   "execution_count": 6,
   "id": "f30a56a5-9da3-49cb-b99a-114d6c18ffb7",
   "metadata": {},
   "outputs": [
    {
     "name": "stdout",
     "output_type": "stream",
     "text": [
      "Number cities in the initial list : 35\n",
      "Number cities in the final list : 35\n"
     ]
    }
   ],
   "source": [
    "print(\"Number cities in the initial list :\", len(cities))\n",
    "print(\"Number cities in the final list :\", len(citiesGeo))\n",
    "assert len(cities)==len(citiesGeo)"
   ]
  },
  {
   "cell_type": "markdown",
   "id": "713bff08-2afa-479f-a79f-7d1d6f3d82ea",
   "metadata": {},
   "source": [
    "Save this dict in the csv file"
   ]
  },
  {
   "cell_type": "code",
   "execution_count": 7,
   "id": "3b0d52dc-4056-4513-a56d-5d2240dbb5be",
   "metadata": {},
   "outputs": [],
   "source": [
    "result.to_csv(\"refCity.csv\",index=False)"
   ]
  }
 ],
 "metadata": {
  "kernelspec": {
   "display_name": "Python 3 (ipykernel)",
   "language": "python",
   "name": "python3"
  },
  "language_info": {
   "codemirror_mode": {
    "name": "ipython",
    "version": 3
   },
   "file_extension": ".py",
   "mimetype": "text/x-python",
   "name": "python",
   "nbconvert_exporter": "python",
   "pygments_lexer": "ipython3",
   "version": "3.9.7"
  }
 },
 "nbformat": 4,
 "nbformat_minor": 5
}
