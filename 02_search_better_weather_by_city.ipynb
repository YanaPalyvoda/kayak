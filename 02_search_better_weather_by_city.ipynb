{
 "cells": [
  {
   "cell_type": "markdown",
   "id": "eabe9430-5252-4d4f-94d8-1d26a2c0758d",
   "metadata": {},
   "source": [
    "## STEP 2\n",
    "## Search the weather for the city list provided by the marketing team"
   ]
  },
  {
   "cell_type": "markdown",
   "id": "e96f1c91-784b-467e-81c0-6750fcefe0af",
   "metadata": {},
   "source": [
    "Use https://openweathermap.org/appid (you have to subscribe to get a free apikey) and https://openweathermap.org/api/one-call-api to get some information about the weather for the 35 cities and put it in a DataFrame"
   ]
  },
  {
   "cell_type": "code",
   "execution_count": 1,
   "id": "59b7e832-b0dd-4e45-99e0-93934415afa9",
   "metadata": {},
   "outputs": [],
   "source": [
    "import requests\n",
    "import pandas as pd\n",
    "import json\n",
    "from datetime import datetime, timezone"
   ]
  },
  {
   "cell_type": "code",
   "execution_count": 1,
   "id": "4728d8d8-a833-44bb-9bf0-3b26154fa87e",
   "metadata": {},
   "outputs": [],
   "source": [
    "# api key to connect \n",
    "api_key = \"YOUR_API_KEY\""
   ]
  },
  {
   "cell_type": "code",
   "execution_count": 3,
   "id": "02a074a2-e436-455c-bba3-ca961d4f2f33",
   "metadata": {},
   "outputs": [
    {
     "data": {
      "text/html": [
       "<div>\n",
       "<style scoped>\n",
       "    .dataframe tbody tr th:only-of-type {\n",
       "        vertical-align: middle;\n",
       "    }\n",
       "\n",
       "    .dataframe tbody tr th {\n",
       "        vertical-align: top;\n",
       "    }\n",
       "\n",
       "    .dataframe thead th {\n",
       "        text-align: right;\n",
       "    }\n",
       "</style>\n",
       "<table border=\"1\" class=\"dataframe\">\n",
       "  <thead>\n",
       "    <tr style=\"text-align: right;\">\n",
       "      <th></th>\n",
       "      <th>CityID</th>\n",
       "      <th>CityName</th>\n",
       "      <th>CityLat</th>\n",
       "      <th>CityLon</th>\n",
       "    </tr>\n",
       "  </thead>\n",
       "  <tbody>\n",
       "    <tr>\n",
       "      <th>0</th>\n",
       "      <td>0</td>\n",
       "      <td>Mont Saint Michel</td>\n",
       "      <td>48.635954</td>\n",
       "      <td>-1.511460</td>\n",
       "    </tr>\n",
       "    <tr>\n",
       "      <th>1</th>\n",
       "      <td>1</td>\n",
       "      <td>St Malo</td>\n",
       "      <td>48.649518</td>\n",
       "      <td>-2.026041</td>\n",
       "    </tr>\n",
       "    <tr>\n",
       "      <th>2</th>\n",
       "      <td>2</td>\n",
       "      <td>Bayeux</td>\n",
       "      <td>49.276462</td>\n",
       "      <td>-0.702474</td>\n",
       "    </tr>\n",
       "    <tr>\n",
       "      <th>3</th>\n",
       "      <td>3</td>\n",
       "      <td>Le Havre</td>\n",
       "      <td>49.493898</td>\n",
       "      <td>0.107973</td>\n",
       "    </tr>\n",
       "    <tr>\n",
       "      <th>4</th>\n",
       "      <td>4</td>\n",
       "      <td>Rouen</td>\n",
       "      <td>49.440459</td>\n",
       "      <td>1.093966</td>\n",
       "    </tr>\n",
       "  </tbody>\n",
       "</table>\n",
       "</div>"
      ],
      "text/plain": [
       "   CityID           CityName    CityLat   CityLon\n",
       "0       0  Mont Saint Michel  48.635954 -1.511460\n",
       "1       1            St Malo  48.649518 -2.026041\n",
       "2       2             Bayeux  49.276462 -0.702474\n",
       "3       3           Le Havre  49.493898  0.107973\n",
       "4       4              Rouen  49.440459  1.093966"
      ]
     },
     "execution_count": 3,
     "metadata": {},
     "output_type": "execute_result"
    }
   ],
   "source": [
    "#open the city list file\n",
    "cityGeo = pd.read_csv(\"refCity.csv\")\n",
    "cityGeo.head()"
   ]
  },
  {
   "cell_type": "code",
   "execution_count": 4,
   "id": "3d6c2572-b996-45f7-959b-deacf09d3bba",
   "metadata": {},
   "outputs": [
    {
     "data": {
      "text/plain": [
       "0"
      ]
     },
     "execution_count": 4,
     "metadata": {},
     "output_type": "execute_result"
    }
   ],
   "source": [
    "cityGeo.isna().sum().sum()"
   ]
  },
  {
   "cell_type": "code",
   "execution_count": 5,
   "id": "2797aa05-c8ea-489d-b9af-22783cefc78e",
   "metadata": {},
   "outputs": [
    {
     "data": {
      "text/html": [
       "<div>\n",
       "<style scoped>\n",
       "    .dataframe tbody tr th:only-of-type {\n",
       "        vertical-align: middle;\n",
       "    }\n",
       "\n",
       "    .dataframe tbody tr th {\n",
       "        vertical-align: top;\n",
       "    }\n",
       "\n",
       "    .dataframe thead th {\n",
       "        text-align: right;\n",
       "    }\n",
       "</style>\n",
       "<table border=\"1\" class=\"dataframe\">\n",
       "  <thead>\n",
       "    <tr style=\"text-align: right;\">\n",
       "      <th></th>\n",
       "      <th>From</th>\n",
       "      <th>To</th>\n",
       "      <th>CityID</th>\n",
       "      <th>CityName</th>\n",
       "      <th>CityLat</th>\n",
       "      <th>CityLon</th>\n",
       "      <th>pop</th>\n",
       "      <th>feels_like</th>\n",
       "      <th>temp</th>\n",
       "      <th>clouds</th>\n",
       "      <th>wind_speed</th>\n",
       "    </tr>\n",
       "  </thead>\n",
       "  <tbody>\n",
       "  </tbody>\n",
       "</table>\n",
       "</div>"
      ],
      "text/plain": [
       "Empty DataFrame\n",
       "Columns: [From, To, CityID, CityName, CityLat, CityLon, pop, feels_like, temp, clouds, wind_speed]\n",
       "Index: []"
      ]
     },
     "execution_count": 5,
     "metadata": {},
     "output_type": "execute_result"
    }
   ],
   "source": [
    "columnsToUse = ['pop','feels_like','temp','clouds','wind_speed']\n",
    "# sorting rule for the selection\n",
    "sortAscending = [False,False,False,True,True]\n",
    "dataWeatherFinal = pd.DataFrame(columns = ['From','To','CityID','CityName','CityLat','CityLon'] + columnsToUse)\n",
    "dataWeatherFinal.head()"
   ]
  },
  {
   "cell_type": "markdown",
   "id": "6a010075-72e3-43a0-b794-78db527f9633",
   "metadata": {},
   "source": [
    "Search the weather data to each city"
   ]
  },
  {
   "cell_type": "code",
   "execution_count": 6,
   "id": "72ffcf77-5473-433a-bafc-9559cacdc3d8",
   "metadata": {},
   "outputs": [],
   "source": [
    "for indx, row in cityGeo.iterrows():\n",
    "    lat=row[\"CityLat\"]\n",
    "    lon=row[\"CityLon\"]\n",
    "    url=\"https://api.openweathermap.org/data/2.5/onecall?lat=%s&lon=%s&exclude=current,hourly,minutely&appid=%s&units=metric\" % (lat, lon, api_key)\n",
    "    response = requests.get(url)\n",
    "    data = json.loads(response.text)\n",
    "    dataWeather = pd.DataFrame(data.get('daily'))\n",
    "    ##print(dataWeather.head())\n",
    "    dataWeather['temp'] = dataWeather['temp'].apply(lambda x: x.get('day'))\n",
    "    dataWeather['feels_like'] = dataWeather['feels_like'].apply(lambda x: x.get('day'))\n",
    "    dateFrom = pd.to_datetime(datetime.fromtimestamp(dataWeather['dt'].min()).isoformat())\n",
    "    dateTo = pd.to_datetime(datetime.fromtimestamp(dataWeather['dt'].max()).isoformat())    \n",
    "    dataToInsert = dataWeather[columnsToUse].mean().to_dict()\n",
    "    dataToInsert.update({'From':dateFrom,'To':dateTo,'CityName':row[\"CityName\"],'CityID':row[\"CityID\"],'CityLat':lat,'CityLon':lon})\n",
    "    dataWeatherFinal = dataWeatherFinal.append(dataToInsert,ignore_index=True)"
   ]
  },
  {
   "cell_type": "code",
   "execution_count": 7,
   "id": "6bf945e9-286b-4c8f-8caf-1e03c4c503b6",
   "metadata": {},
   "outputs": [
    {
     "name": "stdout",
     "output_type": "stream",
     "text": [
      "(35, 11)\n"
     ]
    },
    {
     "data": {
      "text/html": [
       "<div>\n",
       "<style scoped>\n",
       "    .dataframe tbody tr th:only-of-type {\n",
       "        vertical-align: middle;\n",
       "    }\n",
       "\n",
       "    .dataframe tbody tr th {\n",
       "        vertical-align: top;\n",
       "    }\n",
       "\n",
       "    .dataframe thead th {\n",
       "        text-align: right;\n",
       "    }\n",
       "</style>\n",
       "<table border=\"1\" class=\"dataframe\">\n",
       "  <thead>\n",
       "    <tr style=\"text-align: right;\">\n",
       "      <th></th>\n",
       "      <th>From</th>\n",
       "      <th>To</th>\n",
       "      <th>CityID</th>\n",
       "      <th>CityName</th>\n",
       "      <th>CityLat</th>\n",
       "      <th>CityLon</th>\n",
       "      <th>pop</th>\n",
       "      <th>feels_like</th>\n",
       "      <th>temp</th>\n",
       "      <th>clouds</th>\n",
       "      <th>wind_speed</th>\n",
       "    </tr>\n",
       "  </thead>\n",
       "  <tbody>\n",
       "    <tr>\n",
       "      <th>0</th>\n",
       "      <td>2022-01-29 13:00:00</td>\n",
       "      <td>2022-02-05 13:00:00</td>\n",
       "      <td>0</td>\n",
       "      <td>Mont Saint Michel</td>\n",
       "      <td>48.635954</td>\n",
       "      <td>-1.511460</td>\n",
       "      <td>0.21125</td>\n",
       "      <td>7.80000</td>\n",
       "      <td>9.56875</td>\n",
       "      <td>77.625</td>\n",
       "      <td>6.93125</td>\n",
       "    </tr>\n",
       "    <tr>\n",
       "      <th>1</th>\n",
       "      <td>2022-01-29 13:00:00</td>\n",
       "      <td>2022-02-05 13:00:00</td>\n",
       "      <td>1</td>\n",
       "      <td>St Malo</td>\n",
       "      <td>48.649518</td>\n",
       "      <td>-2.026041</td>\n",
       "      <td>0.24625</td>\n",
       "      <td>7.45000</td>\n",
       "      <td>9.38250</td>\n",
       "      <td>78.750</td>\n",
       "      <td>7.84375</td>\n",
       "    </tr>\n",
       "    <tr>\n",
       "      <th>2</th>\n",
       "      <td>2022-01-29 13:00:00</td>\n",
       "      <td>2022-02-05 13:00:00</td>\n",
       "      <td>2</td>\n",
       "      <td>Bayeux</td>\n",
       "      <td>49.276462</td>\n",
       "      <td>-0.702474</td>\n",
       "      <td>0.22500</td>\n",
       "      <td>7.30625</td>\n",
       "      <td>9.22250</td>\n",
       "      <td>68.625</td>\n",
       "      <td>7.53500</td>\n",
       "    </tr>\n",
       "    <tr>\n",
       "      <th>3</th>\n",
       "      <td>2022-01-29 13:00:00</td>\n",
       "      <td>2022-02-05 13:00:00</td>\n",
       "      <td>3</td>\n",
       "      <td>Le Havre</td>\n",
       "      <td>49.493898</td>\n",
       "      <td>0.107973</td>\n",
       "      <td>0.33375</td>\n",
       "      <td>5.77750</td>\n",
       "      <td>8.54875</td>\n",
       "      <td>69.375</td>\n",
       "      <td>9.00375</td>\n",
       "    </tr>\n",
       "    <tr>\n",
       "      <th>4</th>\n",
       "      <td>2022-01-29 13:00:00</td>\n",
       "      <td>2022-02-05 13:00:00</td>\n",
       "      <td>4</td>\n",
       "      <td>Rouen</td>\n",
       "      <td>49.440459</td>\n",
       "      <td>1.093966</td>\n",
       "      <td>0.31375</td>\n",
       "      <td>6.18500</td>\n",
       "      <td>8.72500</td>\n",
       "      <td>70.875</td>\n",
       "      <td>7.22500</td>\n",
       "    </tr>\n",
       "  </tbody>\n",
       "</table>\n",
       "</div>"
      ],
      "text/plain": [
       "                 From                  To CityID           CityName  \\\n",
       "0 2022-01-29 13:00:00 2022-02-05 13:00:00      0  Mont Saint Michel   \n",
       "1 2022-01-29 13:00:00 2022-02-05 13:00:00      1            St Malo   \n",
       "2 2022-01-29 13:00:00 2022-02-05 13:00:00      2             Bayeux   \n",
       "3 2022-01-29 13:00:00 2022-02-05 13:00:00      3           Le Havre   \n",
       "4 2022-01-29 13:00:00 2022-02-05 13:00:00      4              Rouen   \n",
       "\n",
       "     CityLat   CityLon      pop  feels_like     temp  clouds  wind_speed  \n",
       "0  48.635954 -1.511460  0.21125     7.80000  9.56875  77.625     6.93125  \n",
       "1  48.649518 -2.026041  0.24625     7.45000  9.38250  78.750     7.84375  \n",
       "2  49.276462 -0.702474  0.22500     7.30625  9.22250  68.625     7.53500  \n",
       "3  49.493898  0.107973  0.33375     5.77750  8.54875  69.375     9.00375  \n",
       "4  49.440459  1.093966  0.31375     6.18500  8.72500  70.875     7.22500  "
      ]
     },
     "execution_count": 7,
     "metadata": {},
     "output_type": "execute_result"
    }
   ],
   "source": [
    "print(dataWeatherFinal.shape)\n",
    "dataWeatherFinal.head()"
   ]
  },
  {
   "cell_type": "code",
   "execution_count": 8,
   "id": "36a09160-5221-447f-b8e6-2dd658e2504b",
   "metadata": {},
   "outputs": [],
   "source": [
    "#dataWeatherFinal.to_csv(\"weather_data.csv\",index=False)"
   ]
  },
  {
   "cell_type": "markdown",
   "id": "d13652f3-3146-4f94-a712-13678fe3f7b0",
   "metadata": {},
   "source": [
    "Search the top 5 cities by best weather"
   ]
  },
  {
   "cell_type": "code",
   "execution_count": 9,
   "id": "0e59b1c5-9309-44b7-a484-d7ea1fef2198",
   "metadata": {},
   "outputs": [],
   "source": [
    "dataWeatherTop5 = dataWeatherFinal.sort_values(by = columnsToUse, ascending = sortAscending).reset_index(drop=True).head(5)"
   ]
  },
  {
   "cell_type": "code",
   "execution_count": 10,
   "id": "6303e6ab-fdf3-4ac1-8403-bfdd41cca0b5",
   "metadata": {},
   "outputs": [
    {
     "data": {
      "text/html": [
       "<div>\n",
       "<style scoped>\n",
       "    .dataframe tbody tr th:only-of-type {\n",
       "        vertical-align: middle;\n",
       "    }\n",
       "\n",
       "    .dataframe tbody tr th {\n",
       "        vertical-align: top;\n",
       "    }\n",
       "\n",
       "    .dataframe thead th {\n",
       "        text-align: right;\n",
       "    }\n",
       "</style>\n",
       "<table border=\"1\" class=\"dataframe\">\n",
       "  <thead>\n",
       "    <tr style=\"text-align: right;\">\n",
       "      <th></th>\n",
       "      <th>From</th>\n",
       "      <th>To</th>\n",
       "      <th>CityID</th>\n",
       "      <th>CityName</th>\n",
       "      <th>CityLat</th>\n",
       "      <th>CityLon</th>\n",
       "      <th>pop</th>\n",
       "      <th>feels_like</th>\n",
       "      <th>temp</th>\n",
       "      <th>clouds</th>\n",
       "      <th>wind_speed</th>\n",
       "    </tr>\n",
       "  </thead>\n",
       "  <tbody>\n",
       "    <tr>\n",
       "      <th>0</th>\n",
       "      <td>2022-01-29 12:00:00</td>\n",
       "      <td>2022-02-05 12:00:00</td>\n",
       "      <td>12</td>\n",
       "      <td>Besancon</td>\n",
       "      <td>47.238022</td>\n",
       "      <td>6.024362</td>\n",
       "      <td>0.59500</td>\n",
       "      <td>3.53875</td>\n",
       "      <td>5.90000</td>\n",
       "      <td>88.500</td>\n",
       "      <td>4.19250</td>\n",
       "    </tr>\n",
       "    <tr>\n",
       "      <th>1</th>\n",
       "      <td>2022-01-29 12:00:00</td>\n",
       "      <td>2022-02-05 12:00:00</td>\n",
       "      <td>9</td>\n",
       "      <td>Chateau du Haut Koenigsbourg</td>\n",
       "      <td>48.249490</td>\n",
       "      <td>7.344296</td>\n",
       "      <td>0.58625</td>\n",
       "      <td>-0.38750</td>\n",
       "      <td>2.34000</td>\n",
       "      <td>90.625</td>\n",
       "      <td>3.65125</td>\n",
       "    </tr>\n",
       "    <tr>\n",
       "      <th>2</th>\n",
       "      <td>2022-01-29 12:00:00</td>\n",
       "      <td>2022-02-05 12:00:00</td>\n",
       "      <td>11</td>\n",
       "      <td>Eguisheim</td>\n",
       "      <td>48.044797</td>\n",
       "      <td>7.307962</td>\n",
       "      <td>0.58625</td>\n",
       "      <td>4.34750</td>\n",
       "      <td>6.15125</td>\n",
       "      <td>88.250</td>\n",
       "      <td>3.74250</td>\n",
       "    </tr>\n",
       "    <tr>\n",
       "      <th>3</th>\n",
       "      <td>2022-01-29 12:00:00</td>\n",
       "      <td>2022-02-05 12:00:00</td>\n",
       "      <td>10</td>\n",
       "      <td>Colmar</td>\n",
       "      <td>48.077752</td>\n",
       "      <td>7.357964</td>\n",
       "      <td>0.58375</td>\n",
       "      <td>4.08000</td>\n",
       "      <td>6.04750</td>\n",
       "      <td>89.375</td>\n",
       "      <td>3.93000</td>\n",
       "    </tr>\n",
       "    <tr>\n",
       "      <th>4</th>\n",
       "      <td>2022-01-29 12:00:00</td>\n",
       "      <td>2022-02-05 12:00:00</td>\n",
       "      <td>8</td>\n",
       "      <td>Strasbourg</td>\n",
       "      <td>48.584614</td>\n",
       "      <td>7.750713</td>\n",
       "      <td>0.56375</td>\n",
       "      <td>2.73750</td>\n",
       "      <td>5.65000</td>\n",
       "      <td>85.500</td>\n",
       "      <td>5.54500</td>\n",
       "    </tr>\n",
       "  </tbody>\n",
       "</table>\n",
       "</div>"
      ],
      "text/plain": [
       "                 From                  To CityID  \\\n",
       "0 2022-01-29 12:00:00 2022-02-05 12:00:00     12   \n",
       "1 2022-01-29 12:00:00 2022-02-05 12:00:00      9   \n",
       "2 2022-01-29 12:00:00 2022-02-05 12:00:00     11   \n",
       "3 2022-01-29 12:00:00 2022-02-05 12:00:00     10   \n",
       "4 2022-01-29 12:00:00 2022-02-05 12:00:00      8   \n",
       "\n",
       "                       CityName    CityLat   CityLon      pop  feels_like  \\\n",
       "0                      Besancon  47.238022  6.024362  0.59500     3.53875   \n",
       "1  Chateau du Haut Koenigsbourg  48.249490  7.344296  0.58625    -0.38750   \n",
       "2                     Eguisheim  48.044797  7.307962  0.58625     4.34750   \n",
       "3                        Colmar  48.077752  7.357964  0.58375     4.08000   \n",
       "4                    Strasbourg  48.584614  7.750713  0.56375     2.73750   \n",
       "\n",
       "      temp  clouds  wind_speed  \n",
       "0  5.90000  88.500     4.19250  \n",
       "1  2.34000  90.625     3.65125  \n",
       "2  6.15125  88.250     3.74250  \n",
       "3  6.04750  89.375     3.93000  \n",
       "4  5.65000  85.500     5.54500  "
      ]
     },
     "execution_count": 10,
     "metadata": {},
     "output_type": "execute_result"
    }
   ],
   "source": [
    "dataWeatherTop5.head()"
   ]
  },
  {
   "cell_type": "code",
   "execution_count": 11,
   "id": "cd94bf8f-3964-44ad-b0ac-4654cf4304cf",
   "metadata": {},
   "outputs": [],
   "source": [
    "dataWeatherTop5.rename(columns={\"pop\":\"Pop\",\"feels_like\":\"FeelLike\",\"temp\":\"Temp\",\"clouds\":\"Clouds\" ,\"wind_speed\":\"WindSpeed\"},inplace=True)"
   ]
  },
  {
   "cell_type": "code",
   "execution_count": 12,
   "id": "42af581d",
   "metadata": {},
   "outputs": [
    {
     "data": {
      "text/plain": [
       "Index(['From', 'To', 'CityID', 'CityName', 'CityLat', 'CityLon', 'Pop',\n",
       "       'FeelLike', 'Temp', 'Clouds', 'WindSpeed'],\n",
       "      dtype='object')"
      ]
     },
     "execution_count": 12,
     "metadata": {},
     "output_type": "execute_result"
    }
   ],
   "source": [
    "dataWeatherTop5.columns"
   ]
  },
  {
   "cell_type": "markdown",
   "id": "5d06e720-fd08-4484-bd46-370436754ede",
   "metadata": {},
   "source": [
    "Save the final data in the csv file"
   ]
  },
  {
   "cell_type": "code",
   "execution_count": 13,
   "id": "4382d91f-93ac-4758-9da5-97d83bf7b1cc",
   "metadata": {},
   "outputs": [],
   "source": [
    "dataWeatherTop5.head(5).to_csv('weather_for_top5_city.csv', index=False)"
   ]
  }
 ],
 "metadata": {
  "kernelspec": {
   "display_name": "Python 3 (ipykernel)",
   "language": "python",
   "name": "python3"
  },
  "language_info": {
   "codemirror_mode": {
    "name": "ipython",
    "version": 3
   },
   "file_extension": ".py",
   "mimetype": "text/x-python",
   "name": "python",
   "nbconvert_exporter": "python",
   "pygments_lexer": "ipython3",
   "version": "3.9.7"
  }
 },
 "nbformat": 4,
 "nbformat_minor": 5
}
